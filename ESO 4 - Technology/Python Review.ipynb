{
 "cells": [
  {
   "cell_type": "markdown",
   "metadata": {},
   "source": [
    "# Review\n",
    "With advances in technology, many companies are looking for candidates who have programming knowledge. Even if you are not interested in Computer Science, biologists, physicists, chemists, even economists and others write scripts to analyze data and draw conclusions. Thus, it is an important skill to learn. \n",
    "\n",
    "Python is one of the easiest programming languages to learn because it's syntax is almost like English. It is becoming increasingly popular in industry because:\n",
    "- It is free\n",
    "- It supports multiple operating systems\n",
    "- There are many libraries with various capabilities, e.g. machine learning and data analysis\n",
    "- There are frameworks for web development\n",
    "- It is easy to read and learn due to its simple syntax\n",
    "\n",
    "Once you know Python, it is relatively easy to learn other languages because you understand the basic fundamentals of programmming."
   ]
  },
  {
   "cell_type": "markdown",
   "metadata": {},
   "source": [
    "# https://github.com/maryam-a/global-teaching-labs/\n",
    "\n",
    "# Print Statement\n",
    "This is perhaps the most useful function in coding. Before displaying the output, it evaluates the expression. It allows the programmer to:\n",
    "- display information about his/ her code\n",
    "- show progress messages to a user\n",
    "- debug his/ her code (helps find errors in the code)"
   ]
  },
  {
   "cell_type": "code",
   "execution_count": null,
   "metadata": {
    "collapsed": false,
    "scrolled": true
   },
   "outputs": [],
   "source": [
    "print(\"hola mundo\")"
   ]
  },
  {
   "cell_type": "markdown",
   "metadata": {},
   "source": [
    "# Basic Math\n",
    "## Order of Operation\n",
    "| Order | Operation | Python |\n",
    "| ----- | --------- | ------ |\n",
    "| 1 | Parenthesis   | `(<expression>)` |\n",
    "| 2 | Exponential   | `**` |\n",
    "| 3 | Division      | `/` |\n",
    "| 4 | Multiplication| `*` |\n",
    "| 5 | Modulus       | `%` |\n",
    "| 6 | Addition      | `+` |\n",
    "| 7 | Subtraction   | `-` |"
   ]
  },
  {
   "cell_type": "code",
   "execution_count": null,
   "metadata": {
    "collapsed": false,
    "scrolled": true
   },
   "outputs": [],
   "source": [
    "# Modulus is the remainder when the first number is divided by the second\n",
    "print(4%2)\n",
    "print(3%2)"
   ]
  },
  {
   "cell_type": "code",
   "execution_count": null,
   "metadata": {
    "collapsed": false,
    "scrolled": true
   },
   "outputs": [],
   "source": [
    "print(2+2*8)"
   ]
  },
  {
   "cell_type": "code",
   "execution_count": null,
   "metadata": {
    "collapsed": false,
    "scrolled": true
   },
   "outputs": [],
   "source": [
    "print((2+2)*8)"
   ]
  },
  {
   "cell_type": "markdown",
   "metadata": {},
   "source": [
    "# Variables and Comments\n",
    "A **variable** is a name that the computer associates for a specific location in its memory. The information we want to save is stored in this location. It is similar to variables in Mathematics.  \n",
    "Example: $$x = 2, y = 3$$\n",
    "$$2x + y = 2\\cdot 2 + 3 = 4 + 3 = 7$$\n",
    "\n",
    "Variable names should be descriptive. In Python, they are written in snake case (lowercase letters with underscores instead of spaces).\n",
    "\n",
    "**Comments** begin with # and are ignored by Python. They are used to document your code and make it easier for people to understand your code."
   ]
  },
  {
   "cell_type": "code",
   "execution_count": null,
   "metadata": {
    "collapsed": true,
    "scrolled": true
   },
   "outputs": [],
   "source": [
    "# Bad variable names\n",
    "var1 = \"Maryam\"\n",
    "a = \"Archie\"\n",
    "\n",
    "# Good variable names\n",
    "first_name = \"Maryam\"\n",
    "last_name = \"Archie\""
   ]
  },
  {
   "cell_type": "code",
   "execution_count": null,
   "metadata": {
    "collapsed": false,
    "scrolled": true
   },
   "outputs": [],
   "source": [
    "# What will happen?\n",
    "print(full_name)"
   ]
  },
  {
   "cell_type": "markdown",
   "metadata": {},
   "source": [
    "Python is compiled top-down (from the first line to the last line). \n",
    "\n",
    "Python tried to look for location associated with the variable name `full_name`. Because the variable was never given a value (initialized), the computer didn't know what to return."
   ]
  },
  {
   "cell_type": "markdown",
   "metadata": {},
   "source": [
    "You can assign also variables to other variables and re-use variables."
   ]
  },
  {
   "cell_type": "code",
   "execution_count": null,
   "metadata": {
    "collapsed": false,
    "scrolled": true
   },
   "outputs": [],
   "source": [
    "full_name = first_name + \" \" + last_name\n",
    "print(full_name)"
   ]
  },
  {
   "cell_type": "code",
   "execution_count": null,
   "metadata": {
    "collapsed": false,
    "scrolled": true
   },
   "outputs": [],
   "source": [
    "first_name = last_name\n",
    "last_name = first_name\n",
    "print(full_name)"
   ]
  },
  {
   "cell_type": "code",
   "execution_count": null,
   "metadata": {
    "collapsed": false,
    "scrolled": true
   },
   "outputs": [],
   "source": [
    "full_name = \"Bob the Builder\"\n",
    "print(first_name)\n",
    "print(last_name)\n",
    "print(full_name)"
   ]
  },
  {
   "cell_type": "markdown",
   "metadata": {},
   "source": [
    "# Objects and Types\n",
    "Everything in Python is an object and each object has a type."
   ]
  },
  {
   "cell_type": "markdown",
   "metadata": {},
   "source": [
    "## Integers"
   ]
  },
  {
   "cell_type": "code",
   "execution_count": null,
   "metadata": {
    "collapsed": true,
    "scrolled": true
   },
   "outputs": [],
   "source": [
    "integer = 3"
   ]
  },
  {
   "cell_type": "markdown",
   "metadata": {},
   "source": [
    "## Floats"
   ]
  },
  {
   "cell_type": "code",
   "execution_count": null,
   "metadata": {
    "collapsed": true,
    "scrolled": true
   },
   "outputs": [],
   "source": [
    "decimal = 4.5"
   ]
  },
  {
   "cell_type": "markdown",
   "metadata": {},
   "source": [
    "## Strings\n",
    "\n",
    "`Escola Virolai`  \n",
    "`|    |    |`  \n",
    "`0    5    9`"
   ]
  },
  {
   "cell_type": "code",
   "execution_count": null,
   "metadata": {
    "collapsed": true,
    "scrolled": true
   },
   "outputs": [],
   "source": [
    "school_name = \"Escola Virolai\""
   ]
  },
  {
   "cell_type": "code",
   "execution_count": null,
   "metadata": {
    "collapsed": false,
    "scrolled": true
   },
   "outputs": [],
   "source": [
    "# length of string\n",
    "print(len(school_name))"
   ]
  },
  {
   "cell_type": "code",
   "execution_count": null,
   "metadata": {
    "collapsed": false,
    "scrolled": true
   },
   "outputs": [],
   "source": [
    "# indexing into a string\n",
    "first_letter = school_name[0]\n",
    "last_letter = school_name[-1] # or school_name[len(school_name)-1]"
   ]
  },
  {
   "cell_type": "code",
   "execution_count": null,
   "metadata": {
    "collapsed": false,
    "scrolled": true
   },
   "outputs": [],
   "source": [
    "# How can I print the third letter of school_name?\n"
   ]
  },
  {
   "cell_type": "code",
   "execution_count": null,
   "metadata": {
    "collapsed": false,
    "scrolled": true
   },
   "outputs": [],
   "source": [
    "first_three_letters = school_name[:3]                  # 0,1,2\n",
    "last_three_letters = school_name[len(school_name)-3:]  # n-2, n-1, n\n",
    "print(last_three_letters)"
   ]
  },
  {
   "cell_type": "code",
   "execution_count": null,
   "metadata": {
    "collapsed": false,
    "scrolled": true
   },
   "outputs": [],
   "source": [
    "# From school_name, how can I print \"col\"?\n"
   ]
  },
  {
   "cell_type": "code",
   "execution_count": null,
   "metadata": {
    "collapsed": false,
    "scrolled": true
   },
   "outputs": [],
   "source": [
    "# Uppercase letters -> Lowercase letters\n",
    "school_name.lower()"
   ]
  },
  {
   "cell_type": "markdown",
   "metadata": {},
   "source": [
    "## Lists"
   ]
  },
  {
   "cell_type": "code",
   "execution_count": null,
   "metadata": {
    "collapsed": true,
    "scrolled": true
   },
   "outputs": [],
   "source": [
    "empty_list = [] # or list()\n",
    "mixed_list = [9, \"foo\", [\"bar\"]]\n",
    "scores = [6,2,7,4,4,5,8]"
   ]
  },
  {
   "cell_type": "code",
   "execution_count": null,
   "metadata": {
    "collapsed": false,
    "scrolled": true
   },
   "outputs": [],
   "source": [
    "# How do I print the 5th element of the scores list?\n"
   ]
  },
  {
   "cell_type": "code",
   "execution_count": null,
   "metadata": {
    "collapsed": false,
    "scrolled": true
   },
   "outputs": [],
   "source": [
    "# Adding another element to the end of a list\n",
    "scores.append(9)\n",
    "print(scores)"
   ]
  },
  {
   "cell_type": "code",
   "execution_count": null,
   "metadata": {
    "collapsed": false,
    "scrolled": true
   },
   "outputs": [],
   "source": [
    "# Given one list, add all of its elements to another list (not the list itself)\n",
    "mixed_list.extend(scores)\n",
    "print(mixed_list)"
   ]
  },
  {
   "cell_type": "markdown",
   "metadata": {},
   "source": [
    "## Converting from one type to another"
   ]
  },
  {
   "cell_type": "code",
   "execution_count": null,
   "metadata": {
    "collapsed": false,
    "scrolled": true
   },
   "outputs": [],
   "source": [
    "# string -> int\n",
    "string_int = \"100\"\n",
    "print(string_int)"
   ]
  },
  {
   "cell_type": "code",
   "execution_count": null,
   "metadata": {
    "collapsed": false,
    "scrolled": true
   },
   "outputs": [],
   "source": [
    "# string -> float\n",
    "string_float = \"4.5\"\n",
    "print(string_float)"
   ]
  },
  {
   "cell_type": "code",
   "execution_count": null,
   "metadata": {
    "collapsed": false,
    "scrolled": true
   },
   "outputs": [],
   "source": [
    "# int -> string\n",
    "int_string = 3\n",
    "print(int_string)"
   ]
  },
  {
   "cell_type": "code",
   "execution_count": null,
   "metadata": {
    "collapsed": false,
    "scrolled": true
   },
   "outputs": [],
   "source": [
    "# float -> int\n",
    "float_int = 9.75\n",
    "print(float_int)"
   ]
  },
  {
   "cell_type": "code",
   "execution_count": null,
   "metadata": {
    "collapsed": false,
    "scrolled": true
   },
   "outputs": [],
   "source": [
    "# concatenate string and int\n",
    "print(\"This is a string and an integer\", int_string)\n",
    "print(\"This is another string and integer \" + str(int_string))"
   ]
  },
  {
   "cell_type": "markdown",
   "metadata": {},
   "source": [
    "# Booleans and comparisons\n",
    "A `boolean` is another type in Python. It has one of two values: `True` or `False`.\n",
    "\n",
    "Boolean variables are primarly used when we want certain blocks of code to execute once a condition is met. \n",
    "\n",
    "| Operation | Description |\n",
    "| --------- | ----------- |\n",
    "| == | Equals |\n",
    "| != | Not Equals |\n",
    "| > | Greater Than |\n",
    "| < | Less Than |\n",
    "| >= | Greater Than or Equal To |\n",
    "| <= | Less Than or Equal To |"
   ]
  },
  {
   "cell_type": "code",
   "execution_count": null,
   "metadata": {
    "collapsed": false,
    "scrolled": true
   },
   "outputs": [],
   "source": [
    "2 == 2"
   ]
  },
  {
   "cell_type": "code",
   "execution_count": null,
   "metadata": {
    "collapsed": false,
    "scrolled": true
   },
   "outputs": [],
   "source": [
    "2 + 2 == 4 "
   ]
  },
  {
   "cell_type": "code",
   "execution_count": null,
   "metadata": {
    "collapsed": true,
    "scrolled": true
   },
   "outputs": [],
   "source": [
    "7 > 9"
   ]
  },
  {
   "cell_type": "code",
   "execution_count": null,
   "metadata": {
    "collapsed": true,
    "scrolled": true
   },
   "outputs": [],
   "source": [
    "(5 % 3) != 1"
   ]
  },
  {
   "cell_type": "markdown",
   "metadata": {},
   "source": [
    "# if/elif/else Statements and Control Flow"
   ]
  },
  {
   "cell_type": "markdown",
   "metadata": {},
   "source": [
    "As mentioned above, there are times when we only want certain blocks of code to execute, that is when certain conditions are met.\n",
    "\n",
    "For example, suppose you have a 4GB data plan. You will receive a notification if you use more than 3.75GB before the end of the month as a warning.\n",
    "\n",
    "Following the keyword `if`, you must write a boolean statement followed by a colon (:). If the boolean statement evaluates to True, the code inside the block will execute. However, if it is False, the code is ignored."
   ]
  },
  {
   "cell_type": "code",
   "execution_count": null,
   "metadata": {
    "collapsed": true,
    "scrolled": true
   },
   "outputs": [],
   "source": [
    "data_used = 4"
   ]
  },
  {
   "cell_type": "code",
   "execution_count": null,
   "metadata": {
    "collapsed": false,
    "scrolled": true
   },
   "outputs": [],
   "source": [
    "if data_used > 3.75:\n",
    "    print(\"You have almost used all of this month's data\")\n",
    "    \n",
    "print(\"Have a good day!\")\n",
    "\n",
    "# What happens if data_used = 2?"
   ]
  },
  {
   "cell_type": "markdown",
   "metadata": {},
   "source": [
    "An `else` statement can follow an `if` statement. The code block inside the `else` statement will be executed if the `if` statement evaluates to `False`"
   ]
  },
  {
   "cell_type": "code",
   "execution_count": null,
   "metadata": {
    "collapsed": false,
    "scrolled": true
   },
   "outputs": [],
   "source": [
    "if data_used > 3.75:\n",
    "    print(\"You have almost used all of this month's data\")\n",
    "else:\n",
    "    print(\"You have more than 0.25GB left\")\n",
    "    \n",
    "print(\"Have a good day!\")"
   ]
  },
  {
   "cell_type": "markdown",
   "metadata": {},
   "source": [
    "If there are more than 2 conditions, you can use an `elif` statement. `elif` statements can only be used after an `if` and can be followed by other `elif` statements. "
   ]
  },
  {
   "cell_type": "code",
   "execution_count": null,
   "metadata": {
    "collapsed": false,
    "scrolled": true
   },
   "outputs": [],
   "source": [
    "if data_used > 3.75:\n",
    "    print(\"You have almost used all of this month's data\")\n",
    "elif data_used <= 0.25:\n",
    "    print(\"You have used less than 0.25GB of data\")\n",
    "else:\n",
    "    print(\"You have more than 0.25GB left\")\n",
    "    \n",
    "print(\"Have a good day!\")"
   ]
  },
  {
   "cell_type": "markdown",
   "metadata": {},
   "source": [
    "# Loops\n",
    "## For Loops\n",
    "For loops are useful when you need to execute code for every item in a list or string."
   ]
  },
  {
   "cell_type": "code",
   "execution_count": null,
   "metadata": {
    "collapsed": true,
    "scrolled": true
   },
   "outputs": [],
   "source": [
    "fcb_scores = [2, 4, 3, 3, 4]\n",
    "city_name = \"Barcelona\""
   ]
  },
  {
   "cell_type": "code",
   "execution_count": null,
   "metadata": {
    "collapsed": false,
    "scrolled": true
   },
   "outputs": [],
   "source": [
    "# Loop over elements in a list\n",
    "for score in fcb_scores:\n",
    "    print(score)"
   ]
  },
  {
   "cell_type": "code",
   "execution_count": null,
   "metadata": {
    "collapsed": false,
    "scrolled": true
   },
   "outputs": [],
   "source": [
    "# Loop over characters in a string\n",
    "for letter in city_name:\n",
    "    print(letter)"
   ]
  },
  {
   "cell_type": "markdown",
   "metadata": {},
   "source": [
    "They are also useful when you know how many times you want to execute a block of code. This is done with the range function.\n",
    "\n",
    "**Examples**\n",
    "```\n",
    "range(5) = [0, 1, 2, 3, 4]\n",
    "range(2, 5) = [2, 3, 4]\n",
    "range(5, 0, -1) = [5, 4, 3, 2, 1]\n",
    "```"
   ]
  },
  {
   "cell_type": "code",
   "execution_count": null,
   "metadata": {
    "collapsed": false,
    "scrolled": true
   },
   "outputs": [],
   "source": [
    "# Loop over elements and indices of a list\n",
    "num_games = len(fcb_scores)\n",
    "\n",
    "for game_num in range(num_games):\n",
    "    print(\"game:\", game_num, \"score:\", fcb_scores[game_num])"
   ]
  },
  {
   "cell_type": "code",
   "execution_count": null,
   "metadata": {
    "collapsed": false,
    "scrolled": true
   },
   "outputs": [],
   "source": [
    "# Loop with range\n",
    "adjusted_scores = []\n",
    "\n",
    "for old_score in fcb_scores:\n",
    "    new_score = old_score + 5\n",
    "    adjusted_scores.append(new_score)\n",
    "    \n",
    "print(adjusted_scores)"
   ]
  },
  {
   "cell_type": "markdown",
   "metadata": {},
   "source": [
    "## While Loops\n",
    "While loops are used when you want to execute a block of code until a particular condition is true. If the condition is never true, the code continues to run until it is interrupted by a memory error or if you press `Ctrl + C`."
   ]
  },
  {
   "cell_type": "code",
   "execution_count": null,
   "metadata": {
    "collapsed": false,
    "scrolled": true
   },
   "outputs": [],
   "source": [
    "x = 10\n",
    "\n",
    "while x > 0:\n",
    "    print(x)\n",
    "    x -= 1  # x = x - 1"
   ]
  },
  {
   "cell_type": "markdown",
   "metadata": {},
   "source": [
    "How could above be written with a for loop?"
   ]
  },
  {
   "cell_type": "code",
   "execution_count": null,
   "metadata": {
    "collapsed": true,
    "scrolled": true
   },
   "outputs": [],
   "source": []
  },
  {
   "cell_type": "code",
   "execution_count": null,
   "metadata": {
    "collapsed": false,
    "scrolled": true
   },
   "outputs": [],
   "source": [
    "# Ask question until valid input\n",
    "valid_inputs = [\"rock\", \"paper\", \"scissors\"]\n",
    "\n",
    "response = input(\"rock, paper, scissors?\" )\n",
    "\n",
    "while response not in valid_inputs:\n",
    "    print(\"That is not a valid input\")\n",
    "    response = input(\"rock, paper, scissors? \")\n",
    "    \n",
    "print(\"You chose\", response)"
   ]
  },
  {
   "cell_type": "markdown",
   "metadata": {},
   "source": [
    "# Functions"
   ]
  },
  {
   "cell_type": "markdown",
   "metadata": {},
   "source": [
    "A **function** is a block of code with a name that can be reused by \"calling\" it. You've already seen functions.\n",
    "\n",
    "#### Example\n",
    "`print(\"hola mundo\")`\n",
    "\n",
    "The name of the function is `print` and the argument of the function is the expression in between the parentheses. \n",
    "\n",
    "To create a new function, first we must write the `def` keyword. This tells Python that it is a function. This is followed by the name,  arguments (if any) in between parentheses and a colon. Finally, we write some code inside of the function. This code is executed every time the function is called.\n",
    "\n",
    "The argument acts like a variable inside the body of the function. We don't know what value it stores but when we provide actual values as arguments to the function, Python will be able to evaluate them at runtime."
   ]
  },
  {
   "cell_type": "code",
   "execution_count": null,
   "metadata": {
    "collapsed": false,
    "scrolled": true
   },
   "outputs": [],
   "source": [
    "# 0 Arguments\n",
    "def countdown_from_ten():\n",
    "    for i in range(10, 0, -1):\n",
    "        print(i)\n",
    "        \n",
    "countdown_from_ten()"
   ]
  },
  {
   "cell_type": "code",
   "execution_count": null,
   "metadata": {
    "collapsed": false,
    "scrolled": true
   },
   "outputs": [],
   "source": [
    "# 1 Argument\n",
    "def countdown(n):\n",
    "    for i in range(n, 0, -1):\n",
    "        print(i)\n",
    "\n",
    "countdown(5)\n",
    "countdown(18)"
   ]
  },
  {
   "cell_type": "markdown",
   "metadata": {},
   "source": [
    "If you want to save the result of the function in a variable, you need to have a return statement as the last line in the body of your function code."
   ]
  },
  {
   "cell_type": "code",
   "execution_count": null,
   "metadata": {
    "collapsed": false
   },
   "outputs": [],
   "source": [
    "def multiply(a, b):\n",
    "    return a * b\n",
    "\n",
    "result = multiply(2, 3)\n",
    "print(result)"
   ]
  },
  {
   "cell_type": "markdown",
   "metadata": {},
   "source": [
    "# Exercises"
   ]
  },
  {
   "cell_type": "markdown",
   "metadata": {},
   "source": [
    "### Exercise 1: Even Number\n",
    "Create a function that takes an integer as its input and returns True if it is even, False if it is odd.\n",
    "\n",
    "Input: 2  \n",
    "Expected Output: True\n",
    "\n",
    "Input: 11  \n",
    "Expected Output: False\n",
    "\n",
    "**Hint**: The modulo operator will be useful"
   ]
  },
  {
   "cell_type": "code",
   "execution_count": null,
   "metadata": {
    "collapsed": false,
    "scrolled": true
   },
   "outputs": [],
   "source": [
    "def is_even_number(n):\n",
    "    \n",
    "    \n",
    "    \n",
    "    return"
   ]
  },
  {
   "cell_type": "markdown",
   "metadata": {},
   "source": [
    "### Exercise 2: Mean\n",
    "Create a function that when given a list of integers, it will return the mean.\n",
    "\n",
    "Input: [5,5,4,4]\n",
    "Expected Output: 4.5\n",
    "\n",
    "Input: [2,4,1,8,8,1]\n",
    "Expected Output: 4"
   ]
  },
  {
   "cell_type": "code",
   "execution_count": null,
   "metadata": {
    "collapsed": true,
    "scrolled": true
   },
   "outputs": [],
   "source": []
  }
 ],
 "metadata": {
  "anaconda-cloud": {},
  "kernelspec": {
   "display_name": "Python [Root]",
   "language": "python",
   "name": "Python [Root]"
  },
  "language_info": {
   "codemirror_mode": {
    "name": "ipython",
    "version": 3
   },
   "file_extension": ".py",
   "mimetype": "text/x-python",
   "name": "python",
   "nbconvert_exporter": "python",
   "pygments_lexer": "ipython3",
   "version": "3.5.2"
  }
 },
 "nbformat": 4,
 "nbformat_minor": 0
}
